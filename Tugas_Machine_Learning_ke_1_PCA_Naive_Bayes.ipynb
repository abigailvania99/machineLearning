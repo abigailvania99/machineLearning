{
  "cells": [
    {
      "cell_type": "markdown",
      "metadata": {
        "id": "view-in-github",
        "colab_type": "text"
      },
      "source": [
        "<a href=\"https://colab.research.google.com/github/abigailvania99/machineLearning/blob/main/Tugas_Machine_Learning_ke_1_PCA_Naive_Bayes.ipynb\" target=\"_parent\"><img src=\"https://colab.research.google.com/assets/colab-badge.svg\" alt=\"Open In Colab\"/></a>"
      ]
    },
    {
      "cell_type": "markdown",
      "metadata": {
        "id": "s8D4WQBxmsJ_"
      },
      "source": [
        "# Machine Learning\n",
        "\n",
        "## Tugas ke-1 (PCA)\n",
        "\n",
        "### Nama: Abigail Vania\n",
        "### NIM : 2402345072"
      ]
    },
    {
      "cell_type": "markdown",
      "metadata": {
        "id": "v0pXIQ_OmsKC"
      },
      "source": [
        "<br>\n",
        "Data yang digunakan dari kaggle berupa data audit risiko yang digunakan untuk mengklasifikasikan Perusahaan Penipuan"
      ]
    },
    {
      "cell_type": "markdown",
      "metadata": {
        "id": "CTlSJGoRmsKD"
      },
      "source": [
        "<b> 1. Import library</b>"
      ]
    },
    {
      "cell_type": "code",
      "execution_count": null,
      "metadata": {
        "id": "wOl3bltdmsKD"
      },
      "outputs": [],
      "source": [
        "import numpy as np\n",
        "import pandas as pd\n",
        "from sklearn.preprocessing import StandardScaler\n",
        "from sklearn.decomposition import PCA\n",
        "from sklearn.model_selection import train_test_split, cross_val_score\n",
        "import matplotlib.pyplot as plt\n",
        "from sklearn.metrics import confusion_matrix, classification_report, accuracy_score, precision_score, recall_score, f1_score\n",
        "import seaborn as sns\n",
        "from sklearn.naive_bayes import GaussianNB"
      ]
    },
    {
      "cell_type": "markdown",
      "metadata": {
        "id": "Bo0Akq_dmsKH"
      },
      "source": [
        "<b> 2. Mengambil dan Menampung Data"
      ]
    },
    {
      "cell_type": "markdown",
      "metadata": {
        "id": "tIVM5er7msKI"
      },
      "source": [
        "Mengambil data audit berupa csv yang telah di download"
      ]
    },
    {
      "cell_type": "code",
      "execution_count": null,
      "metadata": {
        "id": "0iR47hGemsKI"
      },
      "outputs": [],
      "source": [
        "df = pd.read_csv(\"https://raw.githubusercontent.com/abigailvania99/machineLearning/main/audit_data.csv\")"
      ]
    },
    {
      "cell_type": "markdown",
      "metadata": {
        "id": "mDN19xuomsKI"
      },
      "source": [
        "<li> Melihat 5 sample data teratas"
      ]
    },
    {
      "cell_type": "code",
      "execution_count": null,
      "metadata": {
        "id": "-zyvonjsmsKJ",
        "colab": {
          "base_uri": "https://localhost:8080/",
          "height": 255
        },
        "outputId": "99b627e3-2a7b-4814-acec-c5655d6a30e2"
      },
      "outputs": [
        {
          "output_type": "execute_result",
          "data": {
            "text/plain": [
              "   Sector_score LOCATION_ID  PARA_A  Score_A  Risk_A  PARA_B  Score_B  Risk_B  \\\n",
              "0          3.89          23    4.18      0.6   2.508    2.50      0.2   0.500   \n",
              "1          3.89           6    0.00      0.2   0.000    4.83      0.2   0.966   \n",
              "2          3.89           6    0.51      0.2   0.102    0.23      0.2   0.046   \n",
              "3          3.89           6    0.00      0.2   0.000   10.80      0.6   6.480   \n",
              "4          3.89           6    0.00      0.2   0.000    0.08      0.2   0.016   \n",
              "\n",
              "   TOTAL  numbers  ...  RiSk_E  History  Prob  Risk_F  Score  Inherent_Risk  \\\n",
              "0   6.68      5.0  ...     0.4        0   0.2     0.0    2.4          8.574   \n",
              "1   4.83      5.0  ...     0.4        0   0.2     0.0    2.0          2.554   \n",
              "2   0.74      5.0  ...     0.4        0   0.2     0.0    2.0          1.548   \n",
              "3  10.80      6.0  ...     0.4        0   0.2     0.0    4.4         17.530   \n",
              "4   0.08      5.0  ...     0.4        0   0.2     0.0    2.0          1.416   \n",
              "\n",
              "   CONTROL_RISK  Detection_Risk  Audit_Risk  Risk  \n",
              "0           0.4             0.5      1.7148     1  \n",
              "1           0.4             0.5      0.5108     0  \n",
              "2           0.4             0.5      0.3096     0  \n",
              "3           0.4             0.5      3.5060     1  \n",
              "4           0.4             0.5      0.2832     0  \n",
              "\n",
              "[5 rows x 27 columns]"
            ],
            "text/html": [
              "\n",
              "  <div id=\"df-eaeee60b-d4af-4818-a423-11f6c2de1228\" class=\"colab-df-container\">\n",
              "    <div>\n",
              "<style scoped>\n",
              "    .dataframe tbody tr th:only-of-type {\n",
              "        vertical-align: middle;\n",
              "    }\n",
              "\n",
              "    .dataframe tbody tr th {\n",
              "        vertical-align: top;\n",
              "    }\n",
              "\n",
              "    .dataframe thead th {\n",
              "        text-align: right;\n",
              "    }\n",
              "</style>\n",
              "<table border=\"1\" class=\"dataframe\">\n",
              "  <thead>\n",
              "    <tr style=\"text-align: right;\">\n",
              "      <th></th>\n",
              "      <th>Sector_score</th>\n",
              "      <th>LOCATION_ID</th>\n",
              "      <th>PARA_A</th>\n",
              "      <th>Score_A</th>\n",
              "      <th>Risk_A</th>\n",
              "      <th>PARA_B</th>\n",
              "      <th>Score_B</th>\n",
              "      <th>Risk_B</th>\n",
              "      <th>TOTAL</th>\n",
              "      <th>numbers</th>\n",
              "      <th>...</th>\n",
              "      <th>RiSk_E</th>\n",
              "      <th>History</th>\n",
              "      <th>Prob</th>\n",
              "      <th>Risk_F</th>\n",
              "      <th>Score</th>\n",
              "      <th>Inherent_Risk</th>\n",
              "      <th>CONTROL_RISK</th>\n",
              "      <th>Detection_Risk</th>\n",
              "      <th>Audit_Risk</th>\n",
              "      <th>Risk</th>\n",
              "    </tr>\n",
              "  </thead>\n",
              "  <tbody>\n",
              "    <tr>\n",
              "      <th>0</th>\n",
              "      <td>3.89</td>\n",
              "      <td>23</td>\n",
              "      <td>4.18</td>\n",
              "      <td>0.6</td>\n",
              "      <td>2.508</td>\n",
              "      <td>2.50</td>\n",
              "      <td>0.2</td>\n",
              "      <td>0.500</td>\n",
              "      <td>6.68</td>\n",
              "      <td>5.0</td>\n",
              "      <td>...</td>\n",
              "      <td>0.4</td>\n",
              "      <td>0</td>\n",
              "      <td>0.2</td>\n",
              "      <td>0.0</td>\n",
              "      <td>2.4</td>\n",
              "      <td>8.574</td>\n",
              "      <td>0.4</td>\n",
              "      <td>0.5</td>\n",
              "      <td>1.7148</td>\n",
              "      <td>1</td>\n",
              "    </tr>\n",
              "    <tr>\n",
              "      <th>1</th>\n",
              "      <td>3.89</td>\n",
              "      <td>6</td>\n",
              "      <td>0.00</td>\n",
              "      <td>0.2</td>\n",
              "      <td>0.000</td>\n",
              "      <td>4.83</td>\n",
              "      <td>0.2</td>\n",
              "      <td>0.966</td>\n",
              "      <td>4.83</td>\n",
              "      <td>5.0</td>\n",
              "      <td>...</td>\n",
              "      <td>0.4</td>\n",
              "      <td>0</td>\n",
              "      <td>0.2</td>\n",
              "      <td>0.0</td>\n",
              "      <td>2.0</td>\n",
              "      <td>2.554</td>\n",
              "      <td>0.4</td>\n",
              "      <td>0.5</td>\n",
              "      <td>0.5108</td>\n",
              "      <td>0</td>\n",
              "    </tr>\n",
              "    <tr>\n",
              "      <th>2</th>\n",
              "      <td>3.89</td>\n",
              "      <td>6</td>\n",
              "      <td>0.51</td>\n",
              "      <td>0.2</td>\n",
              "      <td>0.102</td>\n",
              "      <td>0.23</td>\n",
              "      <td>0.2</td>\n",
              "      <td>0.046</td>\n",
              "      <td>0.74</td>\n",
              "      <td>5.0</td>\n",
              "      <td>...</td>\n",
              "      <td>0.4</td>\n",
              "      <td>0</td>\n",
              "      <td>0.2</td>\n",
              "      <td>0.0</td>\n",
              "      <td>2.0</td>\n",
              "      <td>1.548</td>\n",
              "      <td>0.4</td>\n",
              "      <td>0.5</td>\n",
              "      <td>0.3096</td>\n",
              "      <td>0</td>\n",
              "    </tr>\n",
              "    <tr>\n",
              "      <th>3</th>\n",
              "      <td>3.89</td>\n",
              "      <td>6</td>\n",
              "      <td>0.00</td>\n",
              "      <td>0.2</td>\n",
              "      <td>0.000</td>\n",
              "      <td>10.80</td>\n",
              "      <td>0.6</td>\n",
              "      <td>6.480</td>\n",
              "      <td>10.80</td>\n",
              "      <td>6.0</td>\n",
              "      <td>...</td>\n",
              "      <td>0.4</td>\n",
              "      <td>0</td>\n",
              "      <td>0.2</td>\n",
              "      <td>0.0</td>\n",
              "      <td>4.4</td>\n",
              "      <td>17.530</td>\n",
              "      <td>0.4</td>\n",
              "      <td>0.5</td>\n",
              "      <td>3.5060</td>\n",
              "      <td>1</td>\n",
              "    </tr>\n",
              "    <tr>\n",
              "      <th>4</th>\n",
              "      <td>3.89</td>\n",
              "      <td>6</td>\n",
              "      <td>0.00</td>\n",
              "      <td>0.2</td>\n",
              "      <td>0.000</td>\n",
              "      <td>0.08</td>\n",
              "      <td>0.2</td>\n",
              "      <td>0.016</td>\n",
              "      <td>0.08</td>\n",
              "      <td>5.0</td>\n",
              "      <td>...</td>\n",
              "      <td>0.4</td>\n",
              "      <td>0</td>\n",
              "      <td>0.2</td>\n",
              "      <td>0.0</td>\n",
              "      <td>2.0</td>\n",
              "      <td>1.416</td>\n",
              "      <td>0.4</td>\n",
              "      <td>0.5</td>\n",
              "      <td>0.2832</td>\n",
              "      <td>0</td>\n",
              "    </tr>\n",
              "  </tbody>\n",
              "</table>\n",
              "<p>5 rows × 27 columns</p>\n",
              "</div>\n",
              "    <div class=\"colab-df-buttons\">\n",
              "\n",
              "  <div class=\"colab-df-container\">\n",
              "    <button class=\"colab-df-convert\" onclick=\"convertToInteractive('df-eaeee60b-d4af-4818-a423-11f6c2de1228')\"\n",
              "            title=\"Convert this dataframe to an interactive table.\"\n",
              "            style=\"display:none;\">\n",
              "\n",
              "  <svg xmlns=\"http://www.w3.org/2000/svg\" height=\"24px\" viewBox=\"0 -960 960 960\">\n",
              "    <path d=\"M120-120v-720h720v720H120Zm60-500h600v-160H180v160Zm220 220h160v-160H400v160Zm0 220h160v-160H400v160ZM180-400h160v-160H180v160Zm440 0h160v-160H620v160ZM180-180h160v-160H180v160Zm440 0h160v-160H620v160Z\"/>\n",
              "  </svg>\n",
              "    </button>\n",
              "\n",
              "  <style>\n",
              "    .colab-df-container {\n",
              "      display:flex;\n",
              "      gap: 12px;\n",
              "    }\n",
              "\n",
              "    .colab-df-convert {\n",
              "      background-color: #E8F0FE;\n",
              "      border: none;\n",
              "      border-radius: 50%;\n",
              "      cursor: pointer;\n",
              "      display: none;\n",
              "      fill: #1967D2;\n",
              "      height: 32px;\n",
              "      padding: 0 0 0 0;\n",
              "      width: 32px;\n",
              "    }\n",
              "\n",
              "    .colab-df-convert:hover {\n",
              "      background-color: #E2EBFA;\n",
              "      box-shadow: 0px 1px 2px rgba(60, 64, 67, 0.3), 0px 1px 3px 1px rgba(60, 64, 67, 0.15);\n",
              "      fill: #174EA6;\n",
              "    }\n",
              "\n",
              "    .colab-df-buttons div {\n",
              "      margin-bottom: 4px;\n",
              "    }\n",
              "\n",
              "    [theme=dark] .colab-df-convert {\n",
              "      background-color: #3B4455;\n",
              "      fill: #D2E3FC;\n",
              "    }\n",
              "\n",
              "    [theme=dark] .colab-df-convert:hover {\n",
              "      background-color: #434B5C;\n",
              "      box-shadow: 0px 1px 3px 1px rgba(0, 0, 0, 0.15);\n",
              "      filter: drop-shadow(0px 1px 2px rgba(0, 0, 0, 0.3));\n",
              "      fill: #FFFFFF;\n",
              "    }\n",
              "  </style>\n",
              "\n",
              "    <script>\n",
              "      const buttonEl =\n",
              "        document.querySelector('#df-eaeee60b-d4af-4818-a423-11f6c2de1228 button.colab-df-convert');\n",
              "      buttonEl.style.display =\n",
              "        google.colab.kernel.accessAllowed ? 'block' : 'none';\n",
              "\n",
              "      async function convertToInteractive(key) {\n",
              "        const element = document.querySelector('#df-eaeee60b-d4af-4818-a423-11f6c2de1228');\n",
              "        const dataTable =\n",
              "          await google.colab.kernel.invokeFunction('convertToInteractive',\n",
              "                                                    [key], {});\n",
              "        if (!dataTable) return;\n",
              "\n",
              "        const docLinkHtml = 'Like what you see? Visit the ' +\n",
              "          '<a target=\"_blank\" href=https://colab.research.google.com/notebooks/data_table.ipynb>data table notebook</a>'\n",
              "          + ' to learn more about interactive tables.';\n",
              "        element.innerHTML = '';\n",
              "        dataTable['output_type'] = 'display_data';\n",
              "        await google.colab.output.renderOutput(dataTable, element);\n",
              "        const docLink = document.createElement('div');\n",
              "        docLink.innerHTML = docLinkHtml;\n",
              "        element.appendChild(docLink);\n",
              "      }\n",
              "    </script>\n",
              "  </div>\n",
              "\n",
              "\n",
              "<div id=\"df-8113bf41-4131-4d32-b858-379b6299bac9\">\n",
              "  <button class=\"colab-df-quickchart\" onclick=\"quickchart('df-8113bf41-4131-4d32-b858-379b6299bac9')\"\n",
              "            title=\"Suggest charts.\"\n",
              "            style=\"display:none;\">\n",
              "\n",
              "<svg xmlns=\"http://www.w3.org/2000/svg\" height=\"24px\"viewBox=\"0 0 24 24\"\n",
              "     width=\"24px\">\n",
              "    <g>\n",
              "        <path d=\"M19 3H5c-1.1 0-2 .9-2 2v14c0 1.1.9 2 2 2h14c1.1 0 2-.9 2-2V5c0-1.1-.9-2-2-2zM9 17H7v-7h2v7zm4 0h-2V7h2v10zm4 0h-2v-4h2v4z\"/>\n",
              "    </g>\n",
              "</svg>\n",
              "  </button>\n",
              "\n",
              "<style>\n",
              "  .colab-df-quickchart {\n",
              "      --bg-color: #E8F0FE;\n",
              "      --fill-color: #1967D2;\n",
              "      --hover-bg-color: #E2EBFA;\n",
              "      --hover-fill-color: #174EA6;\n",
              "      --disabled-fill-color: #AAA;\n",
              "      --disabled-bg-color: #DDD;\n",
              "  }\n",
              "\n",
              "  [theme=dark] .colab-df-quickchart {\n",
              "      --bg-color: #3B4455;\n",
              "      --fill-color: #D2E3FC;\n",
              "      --hover-bg-color: #434B5C;\n",
              "      --hover-fill-color: #FFFFFF;\n",
              "      --disabled-bg-color: #3B4455;\n",
              "      --disabled-fill-color: #666;\n",
              "  }\n",
              "\n",
              "  .colab-df-quickchart {\n",
              "    background-color: var(--bg-color);\n",
              "    border: none;\n",
              "    border-radius: 50%;\n",
              "    cursor: pointer;\n",
              "    display: none;\n",
              "    fill: var(--fill-color);\n",
              "    height: 32px;\n",
              "    padding: 0;\n",
              "    width: 32px;\n",
              "  }\n",
              "\n",
              "  .colab-df-quickchart:hover {\n",
              "    background-color: var(--hover-bg-color);\n",
              "    box-shadow: 0 1px 2px rgba(60, 64, 67, 0.3), 0 1px 3px 1px rgba(60, 64, 67, 0.15);\n",
              "    fill: var(--button-hover-fill-color);\n",
              "  }\n",
              "\n",
              "  .colab-df-quickchart-complete:disabled,\n",
              "  .colab-df-quickchart-complete:disabled:hover {\n",
              "    background-color: var(--disabled-bg-color);\n",
              "    fill: var(--disabled-fill-color);\n",
              "    box-shadow: none;\n",
              "  }\n",
              "\n",
              "  .colab-df-spinner {\n",
              "    border: 2px solid var(--fill-color);\n",
              "    border-color: transparent;\n",
              "    border-bottom-color: var(--fill-color);\n",
              "    animation:\n",
              "      spin 1s steps(1) infinite;\n",
              "  }\n",
              "\n",
              "  @keyframes spin {\n",
              "    0% {\n",
              "      border-color: transparent;\n",
              "      border-bottom-color: var(--fill-color);\n",
              "      border-left-color: var(--fill-color);\n",
              "    }\n",
              "    20% {\n",
              "      border-color: transparent;\n",
              "      border-left-color: var(--fill-color);\n",
              "      border-top-color: var(--fill-color);\n",
              "    }\n",
              "    30% {\n",
              "      border-color: transparent;\n",
              "      border-left-color: var(--fill-color);\n",
              "      border-top-color: var(--fill-color);\n",
              "      border-right-color: var(--fill-color);\n",
              "    }\n",
              "    40% {\n",
              "      border-color: transparent;\n",
              "      border-right-color: var(--fill-color);\n",
              "      border-top-color: var(--fill-color);\n",
              "    }\n",
              "    60% {\n",
              "      border-color: transparent;\n",
              "      border-right-color: var(--fill-color);\n",
              "    }\n",
              "    80% {\n",
              "      border-color: transparent;\n",
              "      border-right-color: var(--fill-color);\n",
              "      border-bottom-color: var(--fill-color);\n",
              "    }\n",
              "    90% {\n",
              "      border-color: transparent;\n",
              "      border-bottom-color: var(--fill-color);\n",
              "    }\n",
              "  }\n",
              "</style>\n",
              "\n",
              "  <script>\n",
              "    async function quickchart(key) {\n",
              "      const quickchartButtonEl =\n",
              "        document.querySelector('#' + key + ' button');\n",
              "      quickchartButtonEl.disabled = true;  // To prevent multiple clicks.\n",
              "      quickchartButtonEl.classList.add('colab-df-spinner');\n",
              "      try {\n",
              "        const charts = await google.colab.kernel.invokeFunction(\n",
              "            'suggestCharts', [key], {});\n",
              "      } catch (error) {\n",
              "        console.error('Error during call to suggestCharts:', error);\n",
              "      }\n",
              "      quickchartButtonEl.classList.remove('colab-df-spinner');\n",
              "      quickchartButtonEl.classList.add('colab-df-quickchart-complete');\n",
              "    }\n",
              "    (() => {\n",
              "      let quickchartButtonEl =\n",
              "        document.querySelector('#df-8113bf41-4131-4d32-b858-379b6299bac9 button');\n",
              "      quickchartButtonEl.style.display =\n",
              "        google.colab.kernel.accessAllowed ? 'block' : 'none';\n",
              "    })();\n",
              "  </script>\n",
              "</div>\n",
              "    </div>\n",
              "  </div>\n"
            ]
          },
          "metadata": {},
          "execution_count": 3
        }
      ],
      "source": [
        "df.head(5)"
      ]
    },
    {
      "cell_type": "markdown",
      "metadata": {
        "id": "lmB58_AhmsKK"
      },
      "source": [
        "Terdapat 27 kolom pada data audit"
      ]
    },
    {
      "cell_type": "markdown",
      "metadata": {
        "id": "SOESE8qKmsKK"
      },
      "source": [
        "<b> 3. Data Preprocessing"
      ]
    },
    {
      "cell_type": "markdown",
      "metadata": {
        "id": "76Zxv3IkmsKK"
      },
      "source": [
        "<li> Melihat ringakasan data dapat menggunakan .describe()"
      ]
    },
    {
      "cell_type": "code",
      "execution_count": null,
      "metadata": {
        "id": "-mfyFyWnmsKK",
        "colab": {
          "base_uri": "https://localhost:8080/",
          "height": 349
        },
        "outputId": "2d819c3d-97d1-4821-aad5-cb5a2c23f0af"
      },
      "outputs": [
        {
          "output_type": "execute_result",
          "data": {
            "text/plain": [
              "       Sector_score      PARA_A     Score_A      Risk_A       PARA_B  \\\n",
              "count    776.000000  776.000000  776.000000  776.000000   776.000000   \n",
              "mean      20.184536    2.450194    0.351289    1.351029    10.799988   \n",
              "std       24.319017    5.678870    0.174055    3.440447    50.083624   \n",
              "min        1.850000    0.000000    0.200000    0.000000     0.000000   \n",
              "25%        2.370000    0.210000    0.200000    0.042000     0.000000   \n",
              "50%        3.890000    0.875000    0.200000    0.175000     0.405000   \n",
              "75%       55.570000    2.480000    0.600000    1.488000     4.160000   \n",
              "max       59.850000   85.000000    0.600000   51.000000  1264.630000   \n",
              "\n",
              "          Score_B      Risk_B        TOTAL     numbers   Score_B.1  ...  \\\n",
              "count  776.000000  776.000000   776.000000  776.000000  776.000000  ...   \n",
              "mean     0.313144    6.334008    13.218481    5.067655    0.223711  ...   \n",
              "std      0.169804   30.072845    51.312829    0.264449    0.080352  ...   \n",
              "min      0.200000    0.000000     0.000000    5.000000    0.200000  ...   \n",
              "25%      0.200000    0.000000     0.537500    5.000000    0.200000  ...   \n",
              "50%      0.200000    0.081000     1.370000    5.000000    0.200000  ...   \n",
              "75%      0.400000    1.840500     7.707500    5.000000    0.200000  ...   \n",
              "max      0.600000  758.778000  1268.910000    9.000000    0.600000  ...   \n",
              "\n",
              "           RiSk_E     History        Prob      Risk_F       Score  \\\n",
              "count  776.000000  776.000000  776.000000  776.000000  776.000000   \n",
              "mean     0.519072    0.104381    0.216753    0.053608    2.702577   \n",
              "std      0.290312    0.531031    0.067987    0.305835    0.858923   \n",
              "min      0.400000    0.000000    0.200000    0.000000    2.000000   \n",
              "25%      0.400000    0.000000    0.200000    0.000000    2.000000   \n",
              "50%      0.400000    0.000000    0.200000    0.000000    2.400000   \n",
              "75%      0.400000    0.000000    0.200000    0.000000    3.250000   \n",
              "max      2.400000    9.000000    0.600000    5.400000    5.200000   \n",
              "\n",
              "       Inherent_Risk  CONTROL_RISK  Detection_Risk  Audit_Risk        Risk  \n",
              "count     776.000000    776.000000           776.0  776.000000  776.000000  \n",
              "mean       17.680612      0.572680             0.5    7.168158    0.393041  \n",
              "std        54.740244      0.444581             0.0   38.667494    0.488741  \n",
              "min         1.400000      0.400000             0.5    0.280000    0.000000  \n",
              "25%         1.583500      0.400000             0.5    0.316700    0.000000  \n",
              "50%         2.214000      0.400000             0.5    0.555600    0.000000  \n",
              "75%        10.663500      0.400000             0.5    3.249900    1.000000  \n",
              "max       801.262000      5.800000             0.5  961.514400    1.000000  \n",
              "\n",
              "[8 rows x 26 columns]"
            ],
            "text/html": [
              "\n",
              "  <div id=\"df-422ceab9-6839-4804-9de1-2273c77c9734\" class=\"colab-df-container\">\n",
              "    <div>\n",
              "<style scoped>\n",
              "    .dataframe tbody tr th:only-of-type {\n",
              "        vertical-align: middle;\n",
              "    }\n",
              "\n",
              "    .dataframe tbody tr th {\n",
              "        vertical-align: top;\n",
              "    }\n",
              "\n",
              "    .dataframe thead th {\n",
              "        text-align: right;\n",
              "    }\n",
              "</style>\n",
              "<table border=\"1\" class=\"dataframe\">\n",
              "  <thead>\n",
              "    <tr style=\"text-align: right;\">\n",
              "      <th></th>\n",
              "      <th>Sector_score</th>\n",
              "      <th>PARA_A</th>\n",
              "      <th>Score_A</th>\n",
              "      <th>Risk_A</th>\n",
              "      <th>PARA_B</th>\n",
              "      <th>Score_B</th>\n",
              "      <th>Risk_B</th>\n",
              "      <th>TOTAL</th>\n",
              "      <th>numbers</th>\n",
              "      <th>Score_B.1</th>\n",
              "      <th>...</th>\n",
              "      <th>RiSk_E</th>\n",
              "      <th>History</th>\n",
              "      <th>Prob</th>\n",
              "      <th>Risk_F</th>\n",
              "      <th>Score</th>\n",
              "      <th>Inherent_Risk</th>\n",
              "      <th>CONTROL_RISK</th>\n",
              "      <th>Detection_Risk</th>\n",
              "      <th>Audit_Risk</th>\n",
              "      <th>Risk</th>\n",
              "    </tr>\n",
              "  </thead>\n",
              "  <tbody>\n",
              "    <tr>\n",
              "      <th>count</th>\n",
              "      <td>776.000000</td>\n",
              "      <td>776.000000</td>\n",
              "      <td>776.000000</td>\n",
              "      <td>776.000000</td>\n",
              "      <td>776.000000</td>\n",
              "      <td>776.000000</td>\n",
              "      <td>776.000000</td>\n",
              "      <td>776.000000</td>\n",
              "      <td>776.000000</td>\n",
              "      <td>776.000000</td>\n",
              "      <td>...</td>\n",
              "      <td>776.000000</td>\n",
              "      <td>776.000000</td>\n",
              "      <td>776.000000</td>\n",
              "      <td>776.000000</td>\n",
              "      <td>776.000000</td>\n",
              "      <td>776.000000</td>\n",
              "      <td>776.000000</td>\n",
              "      <td>776.0</td>\n",
              "      <td>776.000000</td>\n",
              "      <td>776.000000</td>\n",
              "    </tr>\n",
              "    <tr>\n",
              "      <th>mean</th>\n",
              "      <td>20.184536</td>\n",
              "      <td>2.450194</td>\n",
              "      <td>0.351289</td>\n",
              "      <td>1.351029</td>\n",
              "      <td>10.799988</td>\n",
              "      <td>0.313144</td>\n",
              "      <td>6.334008</td>\n",
              "      <td>13.218481</td>\n",
              "      <td>5.067655</td>\n",
              "      <td>0.223711</td>\n",
              "      <td>...</td>\n",
              "      <td>0.519072</td>\n",
              "      <td>0.104381</td>\n",
              "      <td>0.216753</td>\n",
              "      <td>0.053608</td>\n",
              "      <td>2.702577</td>\n",
              "      <td>17.680612</td>\n",
              "      <td>0.572680</td>\n",
              "      <td>0.5</td>\n",
              "      <td>7.168158</td>\n",
              "      <td>0.393041</td>\n",
              "    </tr>\n",
              "    <tr>\n",
              "      <th>std</th>\n",
              "      <td>24.319017</td>\n",
              "      <td>5.678870</td>\n",
              "      <td>0.174055</td>\n",
              "      <td>3.440447</td>\n",
              "      <td>50.083624</td>\n",
              "      <td>0.169804</td>\n",
              "      <td>30.072845</td>\n",
              "      <td>51.312829</td>\n",
              "      <td>0.264449</td>\n",
              "      <td>0.080352</td>\n",
              "      <td>...</td>\n",
              "      <td>0.290312</td>\n",
              "      <td>0.531031</td>\n",
              "      <td>0.067987</td>\n",
              "      <td>0.305835</td>\n",
              "      <td>0.858923</td>\n",
              "      <td>54.740244</td>\n",
              "      <td>0.444581</td>\n",
              "      <td>0.0</td>\n",
              "      <td>38.667494</td>\n",
              "      <td>0.488741</td>\n",
              "    </tr>\n",
              "    <tr>\n",
              "      <th>min</th>\n",
              "      <td>1.850000</td>\n",
              "      <td>0.000000</td>\n",
              "      <td>0.200000</td>\n",
              "      <td>0.000000</td>\n",
              "      <td>0.000000</td>\n",
              "      <td>0.200000</td>\n",
              "      <td>0.000000</td>\n",
              "      <td>0.000000</td>\n",
              "      <td>5.000000</td>\n",
              "      <td>0.200000</td>\n",
              "      <td>...</td>\n",
              "      <td>0.400000</td>\n",
              "      <td>0.000000</td>\n",
              "      <td>0.200000</td>\n",
              "      <td>0.000000</td>\n",
              "      <td>2.000000</td>\n",
              "      <td>1.400000</td>\n",
              "      <td>0.400000</td>\n",
              "      <td>0.5</td>\n",
              "      <td>0.280000</td>\n",
              "      <td>0.000000</td>\n",
              "    </tr>\n",
              "    <tr>\n",
              "      <th>25%</th>\n",
              "      <td>2.370000</td>\n",
              "      <td>0.210000</td>\n",
              "      <td>0.200000</td>\n",
              "      <td>0.042000</td>\n",
              "      <td>0.000000</td>\n",
              "      <td>0.200000</td>\n",
              "      <td>0.000000</td>\n",
              "      <td>0.537500</td>\n",
              "      <td>5.000000</td>\n",
              "      <td>0.200000</td>\n",
              "      <td>...</td>\n",
              "      <td>0.400000</td>\n",
              "      <td>0.000000</td>\n",
              "      <td>0.200000</td>\n",
              "      <td>0.000000</td>\n",
              "      <td>2.000000</td>\n",
              "      <td>1.583500</td>\n",
              "      <td>0.400000</td>\n",
              "      <td>0.5</td>\n",
              "      <td>0.316700</td>\n",
              "      <td>0.000000</td>\n",
              "    </tr>\n",
              "    <tr>\n",
              "      <th>50%</th>\n",
              "      <td>3.890000</td>\n",
              "      <td>0.875000</td>\n",
              "      <td>0.200000</td>\n",
              "      <td>0.175000</td>\n",
              "      <td>0.405000</td>\n",
              "      <td>0.200000</td>\n",
              "      <td>0.081000</td>\n",
              "      <td>1.370000</td>\n",
              "      <td>5.000000</td>\n",
              "      <td>0.200000</td>\n",
              "      <td>...</td>\n",
              "      <td>0.400000</td>\n",
              "      <td>0.000000</td>\n",
              "      <td>0.200000</td>\n",
              "      <td>0.000000</td>\n",
              "      <td>2.400000</td>\n",
              "      <td>2.214000</td>\n",
              "      <td>0.400000</td>\n",
              "      <td>0.5</td>\n",
              "      <td>0.555600</td>\n",
              "      <td>0.000000</td>\n",
              "    </tr>\n",
              "    <tr>\n",
              "      <th>75%</th>\n",
              "      <td>55.570000</td>\n",
              "      <td>2.480000</td>\n",
              "      <td>0.600000</td>\n",
              "      <td>1.488000</td>\n",
              "      <td>4.160000</td>\n",
              "      <td>0.400000</td>\n",
              "      <td>1.840500</td>\n",
              "      <td>7.707500</td>\n",
              "      <td>5.000000</td>\n",
              "      <td>0.200000</td>\n",
              "      <td>...</td>\n",
              "      <td>0.400000</td>\n",
              "      <td>0.000000</td>\n",
              "      <td>0.200000</td>\n",
              "      <td>0.000000</td>\n",
              "      <td>3.250000</td>\n",
              "      <td>10.663500</td>\n",
              "      <td>0.400000</td>\n",
              "      <td>0.5</td>\n",
              "      <td>3.249900</td>\n",
              "      <td>1.000000</td>\n",
              "    </tr>\n",
              "    <tr>\n",
              "      <th>max</th>\n",
              "      <td>59.850000</td>\n",
              "      <td>85.000000</td>\n",
              "      <td>0.600000</td>\n",
              "      <td>51.000000</td>\n",
              "      <td>1264.630000</td>\n",
              "      <td>0.600000</td>\n",
              "      <td>758.778000</td>\n",
              "      <td>1268.910000</td>\n",
              "      <td>9.000000</td>\n",
              "      <td>0.600000</td>\n",
              "      <td>...</td>\n",
              "      <td>2.400000</td>\n",
              "      <td>9.000000</td>\n",
              "      <td>0.600000</td>\n",
              "      <td>5.400000</td>\n",
              "      <td>5.200000</td>\n",
              "      <td>801.262000</td>\n",
              "      <td>5.800000</td>\n",
              "      <td>0.5</td>\n",
              "      <td>961.514400</td>\n",
              "      <td>1.000000</td>\n",
              "    </tr>\n",
              "  </tbody>\n",
              "</table>\n",
              "<p>8 rows × 26 columns</p>\n",
              "</div>\n",
              "    <div class=\"colab-df-buttons\">\n",
              "\n",
              "  <div class=\"colab-df-container\">\n",
              "    <button class=\"colab-df-convert\" onclick=\"convertToInteractive('df-422ceab9-6839-4804-9de1-2273c77c9734')\"\n",
              "            title=\"Convert this dataframe to an interactive table.\"\n",
              "            style=\"display:none;\">\n",
              "\n",
              "  <svg xmlns=\"http://www.w3.org/2000/svg\" height=\"24px\" viewBox=\"0 -960 960 960\">\n",
              "    <path d=\"M120-120v-720h720v720H120Zm60-500h600v-160H180v160Zm220 220h160v-160H400v160Zm0 220h160v-160H400v160ZM180-400h160v-160H180v160Zm440 0h160v-160H620v160ZM180-180h160v-160H180v160Zm440 0h160v-160H620v160Z\"/>\n",
              "  </svg>\n",
              "    </button>\n",
              "\n",
              "  <style>\n",
              "    .colab-df-container {\n",
              "      display:flex;\n",
              "      gap: 12px;\n",
              "    }\n",
              "\n",
              "    .colab-df-convert {\n",
              "      background-color: #E8F0FE;\n",
              "      border: none;\n",
              "      border-radius: 50%;\n",
              "      cursor: pointer;\n",
              "      display: none;\n",
              "      fill: #1967D2;\n",
              "      height: 32px;\n",
              "      padding: 0 0 0 0;\n",
              "      width: 32px;\n",
              "    }\n",
              "\n",
              "    .colab-df-convert:hover {\n",
              "      background-color: #E2EBFA;\n",
              "      box-shadow: 0px 1px 2px rgba(60, 64, 67, 0.3), 0px 1px 3px 1px rgba(60, 64, 67, 0.15);\n",
              "      fill: #174EA6;\n",
              "    }\n",
              "\n",
              "    .colab-df-buttons div {\n",
              "      margin-bottom: 4px;\n",
              "    }\n",
              "\n",
              "    [theme=dark] .colab-df-convert {\n",
              "      background-color: #3B4455;\n",
              "      fill: #D2E3FC;\n",
              "    }\n",
              "\n",
              "    [theme=dark] .colab-df-convert:hover {\n",
              "      background-color: #434B5C;\n",
              "      box-shadow: 0px 1px 3px 1px rgba(0, 0, 0, 0.15);\n",
              "      filter: drop-shadow(0px 1px 2px rgba(0, 0, 0, 0.3));\n",
              "      fill: #FFFFFF;\n",
              "    }\n",
              "  </style>\n",
              "\n",
              "    <script>\n",
              "      const buttonEl =\n",
              "        document.querySelector('#df-422ceab9-6839-4804-9de1-2273c77c9734 button.colab-df-convert');\n",
              "      buttonEl.style.display =\n",
              "        google.colab.kernel.accessAllowed ? 'block' : 'none';\n",
              "\n",
              "      async function convertToInteractive(key) {\n",
              "        const element = document.querySelector('#df-422ceab9-6839-4804-9de1-2273c77c9734');\n",
              "        const dataTable =\n",
              "          await google.colab.kernel.invokeFunction('convertToInteractive',\n",
              "                                                    [key], {});\n",
              "        if (!dataTable) return;\n",
              "\n",
              "        const docLinkHtml = 'Like what you see? Visit the ' +\n",
              "          '<a target=\"_blank\" href=https://colab.research.google.com/notebooks/data_table.ipynb>data table notebook</a>'\n",
              "          + ' to learn more about interactive tables.';\n",
              "        element.innerHTML = '';\n",
              "        dataTable['output_type'] = 'display_data';\n",
              "        await google.colab.output.renderOutput(dataTable, element);\n",
              "        const docLink = document.createElement('div');\n",
              "        docLink.innerHTML = docLinkHtml;\n",
              "        element.appendChild(docLink);\n",
              "      }\n",
              "    </script>\n",
              "  </div>\n",
              "\n",
              "\n",
              "<div id=\"df-21a6625a-5cc5-48e1-aa9c-aede61ff9a8b\">\n",
              "  <button class=\"colab-df-quickchart\" onclick=\"quickchart('df-21a6625a-5cc5-48e1-aa9c-aede61ff9a8b')\"\n",
              "            title=\"Suggest charts.\"\n",
              "            style=\"display:none;\">\n",
              "\n",
              "<svg xmlns=\"http://www.w3.org/2000/svg\" height=\"24px\"viewBox=\"0 0 24 24\"\n",
              "     width=\"24px\">\n",
              "    <g>\n",
              "        <path d=\"M19 3H5c-1.1 0-2 .9-2 2v14c0 1.1.9 2 2 2h14c1.1 0 2-.9 2-2V5c0-1.1-.9-2-2-2zM9 17H7v-7h2v7zm4 0h-2V7h2v10zm4 0h-2v-4h2v4z\"/>\n",
              "    </g>\n",
              "</svg>\n",
              "  </button>\n",
              "\n",
              "<style>\n",
              "  .colab-df-quickchart {\n",
              "      --bg-color: #E8F0FE;\n",
              "      --fill-color: #1967D2;\n",
              "      --hover-bg-color: #E2EBFA;\n",
              "      --hover-fill-color: #174EA6;\n",
              "      --disabled-fill-color: #AAA;\n",
              "      --disabled-bg-color: #DDD;\n",
              "  }\n",
              "\n",
              "  [theme=dark] .colab-df-quickchart {\n",
              "      --bg-color: #3B4455;\n",
              "      --fill-color: #D2E3FC;\n",
              "      --hover-bg-color: #434B5C;\n",
              "      --hover-fill-color: #FFFFFF;\n",
              "      --disabled-bg-color: #3B4455;\n",
              "      --disabled-fill-color: #666;\n",
              "  }\n",
              "\n",
              "  .colab-df-quickchart {\n",
              "    background-color: var(--bg-color);\n",
              "    border: none;\n",
              "    border-radius: 50%;\n",
              "    cursor: pointer;\n",
              "    display: none;\n",
              "    fill: var(--fill-color);\n",
              "    height: 32px;\n",
              "    padding: 0;\n",
              "    width: 32px;\n",
              "  }\n",
              "\n",
              "  .colab-df-quickchart:hover {\n",
              "    background-color: var(--hover-bg-color);\n",
              "    box-shadow: 0 1px 2px rgba(60, 64, 67, 0.3), 0 1px 3px 1px rgba(60, 64, 67, 0.15);\n",
              "    fill: var(--button-hover-fill-color);\n",
              "  }\n",
              "\n",
              "  .colab-df-quickchart-complete:disabled,\n",
              "  .colab-df-quickchart-complete:disabled:hover {\n",
              "    background-color: var(--disabled-bg-color);\n",
              "    fill: var(--disabled-fill-color);\n",
              "    box-shadow: none;\n",
              "  }\n",
              "\n",
              "  .colab-df-spinner {\n",
              "    border: 2px solid var(--fill-color);\n",
              "    border-color: transparent;\n",
              "    border-bottom-color: var(--fill-color);\n",
              "    animation:\n",
              "      spin 1s steps(1) infinite;\n",
              "  }\n",
              "\n",
              "  @keyframes spin {\n",
              "    0% {\n",
              "      border-color: transparent;\n",
              "      border-bottom-color: var(--fill-color);\n",
              "      border-left-color: var(--fill-color);\n",
              "    }\n",
              "    20% {\n",
              "      border-color: transparent;\n",
              "      border-left-color: var(--fill-color);\n",
              "      border-top-color: var(--fill-color);\n",
              "    }\n",
              "    30% {\n",
              "      border-color: transparent;\n",
              "      border-left-color: var(--fill-color);\n",
              "      border-top-color: var(--fill-color);\n",
              "      border-right-color: var(--fill-color);\n",
              "    }\n",
              "    40% {\n",
              "      border-color: transparent;\n",
              "      border-right-color: var(--fill-color);\n",
              "      border-top-color: var(--fill-color);\n",
              "    }\n",
              "    60% {\n",
              "      border-color: transparent;\n",
              "      border-right-color: var(--fill-color);\n",
              "    }\n",
              "    80% {\n",
              "      border-color: transparent;\n",
              "      border-right-color: var(--fill-color);\n",
              "      border-bottom-color: var(--fill-color);\n",
              "    }\n",
              "    90% {\n",
              "      border-color: transparent;\n",
              "      border-bottom-color: var(--fill-color);\n",
              "    }\n",
              "  }\n",
              "</style>\n",
              "\n",
              "  <script>\n",
              "    async function quickchart(key) {\n",
              "      const quickchartButtonEl =\n",
              "        document.querySelector('#' + key + ' button');\n",
              "      quickchartButtonEl.disabled = true;  // To prevent multiple clicks.\n",
              "      quickchartButtonEl.classList.add('colab-df-spinner');\n",
              "      try {\n",
              "        const charts = await google.colab.kernel.invokeFunction(\n",
              "            'suggestCharts', [key], {});\n",
              "      } catch (error) {\n",
              "        console.error('Error during call to suggestCharts:', error);\n",
              "      }\n",
              "      quickchartButtonEl.classList.remove('colab-df-spinner');\n",
              "      quickchartButtonEl.classList.add('colab-df-quickchart-complete');\n",
              "    }\n",
              "    (() => {\n",
              "      let quickchartButtonEl =\n",
              "        document.querySelector('#df-21a6625a-5cc5-48e1-aa9c-aede61ff9a8b button');\n",
              "      quickchartButtonEl.style.display =\n",
              "        google.colab.kernel.accessAllowed ? 'block' : 'none';\n",
              "    })();\n",
              "  </script>\n",
              "</div>\n",
              "    </div>\n",
              "  </div>\n"
            ]
          },
          "metadata": {},
          "execution_count": 4
        }
      ],
      "source": [
        "df.describe()"
      ]
    },
    {
      "cell_type": "markdown",
      "metadata": {
        "id": "ZEFU1Q7cmsKL"
      },
      "source": [
        "<li> Memeriksa ada kolom apa saja dalam data"
      ]
    },
    {
      "cell_type": "code",
      "execution_count": null,
      "metadata": {
        "id": "eUCcv_r4msKL",
        "colab": {
          "base_uri": "https://localhost:8080/"
        },
        "outputId": "ff3d33ca-a0a4-4346-d5c6-b6b48d06a4a7"
      },
      "outputs": [
        {
          "output_type": "execute_result",
          "data": {
            "text/plain": [
              "Index(['Sector_score', 'LOCATION_ID', 'PARA_A', 'Score_A', 'Risk_A', 'PARA_B',\n",
              "       'Score_B', 'Risk_B', 'TOTAL', 'numbers', 'Score_B.1', 'Risk_C',\n",
              "       'Money_Value', 'Score_MV', 'Risk_D', 'District_Loss', 'PROB', 'RiSk_E',\n",
              "       'History', 'Prob', 'Risk_F', 'Score', 'Inherent_Risk', 'CONTROL_RISK',\n",
              "       'Detection_Risk', 'Audit_Risk', 'Risk'],\n",
              "      dtype='object')"
            ]
          },
          "metadata": {},
          "execution_count": 5
        }
      ],
      "source": [
        "df.keys()"
      ]
    },
    {
      "cell_type": "markdown",
      "metadata": {
        "id": "Zak70eVMmsKL"
      },
      "source": [
        "<li> Menghapus kolom 'LOCATION_ID', karena kolom tersebut tidak digunakan"
      ]
    },
    {
      "cell_type": "code",
      "execution_count": null,
      "metadata": {
        "id": "JrPK3SHOmsKL"
      },
      "outputs": [],
      "source": [
        "df.drop(columns=['LOCATION_ID'], inplace = True)"
      ]
    },
    {
      "cell_type": "markdown",
      "metadata": {
        "id": "ZV9BE3v2msKL"
      },
      "source": [
        "<li> Memeriksa apakah kolom 'LOCATION_ID' sudah terhapus"
      ]
    },
    {
      "cell_type": "code",
      "execution_count": null,
      "metadata": {
        "id": "LKeisV7HmsKM",
        "colab": {
          "base_uri": "https://localhost:8080/"
        },
        "outputId": "ef5e404a-7cca-467e-acc4-6d71fdb6dd1b"
      },
      "outputs": [
        {
          "output_type": "execute_result",
          "data": {
            "text/plain": [
              "Index(['Sector_score', 'PARA_A', 'Score_A', 'Risk_A', 'PARA_B', 'Score_B',\n",
              "       'Risk_B', 'TOTAL', 'numbers', 'Score_B.1', 'Risk_C', 'Money_Value',\n",
              "       'Score_MV', 'Risk_D', 'District_Loss', 'PROB', 'RiSk_E', 'History',\n",
              "       'Prob', 'Risk_F', 'Score', 'Inherent_Risk', 'CONTROL_RISK',\n",
              "       'Detection_Risk', 'Audit_Risk', 'Risk'],\n",
              "      dtype='object')"
            ]
          },
          "metadata": {},
          "execution_count": 7
        }
      ],
      "source": [
        "df.keys()"
      ]
    },
    {
      "cell_type": "markdown",
      "metadata": {
        "id": "CJlZknqdmsKM"
      },
      "source": [
        "<li> Memeriksa apakah ada data yang kosong"
      ]
    },
    {
      "cell_type": "code",
      "execution_count": null,
      "metadata": {
        "id": "VviwiLpGmsKM",
        "colab": {
          "base_uri": "https://localhost:8080/"
        },
        "outputId": "2657c908-94bf-4da4-b318-8681ee9c8816"
      },
      "outputs": [
        {
          "output_type": "execute_result",
          "data": {
            "text/plain": [
              "1"
            ]
          },
          "metadata": {},
          "execution_count": 8
        }
      ],
      "source": [
        "df.isnull().sum().sum()"
      ]
    },
    {
      "cell_type": "markdown",
      "metadata": {
        "id": "z1zw7-m8msKM"
      },
      "source": [
        "Ada 1 data null, mari kita cek data pada atribut apa yang null"
      ]
    },
    {
      "cell_type": "code",
      "execution_count": null,
      "metadata": {
        "id": "815vQpppmsKM",
        "colab": {
          "base_uri": "https://localhost:8080/"
        },
        "outputId": "93e73c30-50c3-4c98-f416-c88a2f41c555"
      },
      "outputs": [
        {
          "output_type": "execute_result",
          "data": {
            "text/plain": [
              "Sector_score      0\n",
              "PARA_A            0\n",
              "Score_A           0\n",
              "Risk_A            0\n",
              "PARA_B            0\n",
              "Score_B           0\n",
              "Risk_B            0\n",
              "TOTAL             0\n",
              "numbers           0\n",
              "Score_B.1         0\n",
              "Risk_C            0\n",
              "Money_Value       1\n",
              "Score_MV          0\n",
              "Risk_D            0\n",
              "District_Loss     0\n",
              "PROB              0\n",
              "RiSk_E            0\n",
              "History           0\n",
              "Prob              0\n",
              "Risk_F            0\n",
              "Score             0\n",
              "Inherent_Risk     0\n",
              "CONTROL_RISK      0\n",
              "Detection_Risk    0\n",
              "Audit_Risk        0\n",
              "Risk              0\n",
              "dtype: int64"
            ]
          },
          "metadata": {},
          "execution_count": 9
        }
      ],
      "source": [
        "df.isnull().sum()"
      ]
    },
    {
      "cell_type": "markdown",
      "metadata": {
        "id": "gPKMLPBCmsKN"
      },
      "source": [
        "Ternyata ada 1 data pada atribut Money_Value yang null <br>\n",
        "Karena hanya ada 1 data yang null, maka data tersebut dihapus saja"
      ]
    },
    {
      "cell_type": "code",
      "execution_count": null,
      "metadata": {
        "id": "ARpP3ovJmsKN"
      },
      "outputs": [],
      "source": [
        "df = df.dropna()"
      ]
    },
    {
      "cell_type": "markdown",
      "metadata": {
        "id": "NYZx_SYzmsKN"
      },
      "source": [
        "<li> Memeriksa kembali apakah masih ada data yang null"
      ]
    },
    {
      "cell_type": "code",
      "execution_count": null,
      "metadata": {
        "id": "HDc2EjHvmsKN",
        "colab": {
          "base_uri": "https://localhost:8080/"
        },
        "outputId": "0379b4ce-0c54-40d6-89d2-9a79b337f55d"
      },
      "outputs": [
        {
          "output_type": "execute_result",
          "data": {
            "text/plain": [
              "0"
            ]
          },
          "metadata": {},
          "execution_count": 11
        }
      ],
      "source": [
        "df.isnull().sum().sum()"
      ]
    },
    {
      "cell_type": "markdown",
      "metadata": {
        "id": "nBp61gJRmsKN"
      },
      "source": [
        "Artinya sudah tidak ada data yang null"
      ]
    },
    {
      "cell_type": "markdown",
      "metadata": {
        "id": "9F18tFxZmsKN"
      },
      "source": [
        "<li> Memisahkan data antara atribut dengan target <br>\n",
        "    Target merupakan kolom yang bernama 'Risk', selain itu adalah atribut"
      ]
    },
    {
      "cell_type": "code",
      "execution_count": null,
      "metadata": {
        "id": "NcMMZtVSmsKN"
      },
      "outputs": [],
      "source": [
        "x = df.drop(\"Risk\", axis=1)\n",
        "y = df[\"Risk\"]"
      ]
    },
    {
      "cell_type": "markdown",
      "metadata": {
        "id": "j9NcBa1ZmsKO"
      },
      "source": [
        "<li> Memisahkan dataset antara dataset trainning dengan dataset test<br>\n",
        "    \n",
        "Data yang digunakan sebagai testing adalah 30% dari jumlah data keseluruhan dan random state yang digunakan adalah 50"
      ]
    },
    {
      "cell_type": "code",
      "execution_count": null,
      "metadata": {
        "id": "cN_3x4EAmsKO"
      },
      "outputs": [],
      "source": [
        "X_train, X_test, y_train, y_test = train_test_split(x, y, test_size=0.3, random_state=50)"
      ]
    },
    {
      "cell_type": "markdown",
      "metadata": {
        "id": "AR25LP99msKO"
      },
      "source": [
        "<li> Melakukan standarisasi data dengan menggunakan z-score"
      ]
    },
    {
      "cell_type": "code",
      "execution_count": null,
      "metadata": {
        "id": "WqLSec-cmsKO"
      },
      "outputs": [],
      "source": [
        "zscaler = StandardScaler()\n",
        "\n",
        "X_train_standard = zscaler.fit_transform(X_train)\n",
        "X_test_standard = zscaler.transform(X_test)"
      ]
    },
    {
      "cell_type": "markdown",
      "metadata": {
        "id": "SPGJtR_fmsKO"
      },
      "source": [
        "<b> 4. Melakukan klasifikasi Naive Bayes dan performance confusion matrix sebelum PCA"
      ]
    },
    {
      "cell_type": "markdown",
      "metadata": {
        "id": "Alm7o6JsmsKO"
      },
      "source": [
        "<li> Melakukan trainning menggunakan Naive Bayes"
      ]
    },
    {
      "cell_type": "code",
      "execution_count": null,
      "metadata": {
        "id": "mPOulaL4msKO",
        "colab": {
          "base_uri": "https://localhost:8080/",
          "height": 74
        },
        "outputId": "e1a67148-4c97-40a1-d0c4-2e157848e2a0"
      },
      "outputs": [
        {
          "output_type": "execute_result",
          "data": {
            "text/plain": [
              "GaussianNB()"
            ],
            "text/html": [
              "<style>#sk-container-id-1 {color: black;background-color: white;}#sk-container-id-1 pre{padding: 0;}#sk-container-id-1 div.sk-toggleable {background-color: white;}#sk-container-id-1 label.sk-toggleable__label {cursor: pointer;display: block;width: 100%;margin-bottom: 0;padding: 0.3em;box-sizing: border-box;text-align: center;}#sk-container-id-1 label.sk-toggleable__label-arrow:before {content: \"▸\";float: left;margin-right: 0.25em;color: #696969;}#sk-container-id-1 label.sk-toggleable__label-arrow:hover:before {color: black;}#sk-container-id-1 div.sk-estimator:hover label.sk-toggleable__label-arrow:before {color: black;}#sk-container-id-1 div.sk-toggleable__content {max-height: 0;max-width: 0;overflow: hidden;text-align: left;background-color: #f0f8ff;}#sk-container-id-1 div.sk-toggleable__content pre {margin: 0.2em;color: black;border-radius: 0.25em;background-color: #f0f8ff;}#sk-container-id-1 input.sk-toggleable__control:checked~div.sk-toggleable__content {max-height: 200px;max-width: 100%;overflow: auto;}#sk-container-id-1 input.sk-toggleable__control:checked~label.sk-toggleable__label-arrow:before {content: \"▾\";}#sk-container-id-1 div.sk-estimator input.sk-toggleable__control:checked~label.sk-toggleable__label {background-color: #d4ebff;}#sk-container-id-1 div.sk-label input.sk-toggleable__control:checked~label.sk-toggleable__label {background-color: #d4ebff;}#sk-container-id-1 input.sk-hidden--visually {border: 0;clip: rect(1px 1px 1px 1px);clip: rect(1px, 1px, 1px, 1px);height: 1px;margin: -1px;overflow: hidden;padding: 0;position: absolute;width: 1px;}#sk-container-id-1 div.sk-estimator {font-family: monospace;background-color: #f0f8ff;border: 1px dotted black;border-radius: 0.25em;box-sizing: border-box;margin-bottom: 0.5em;}#sk-container-id-1 div.sk-estimator:hover {background-color: #d4ebff;}#sk-container-id-1 div.sk-parallel-item::after {content: \"\";width: 100%;border-bottom: 1px solid gray;flex-grow: 1;}#sk-container-id-1 div.sk-label:hover label.sk-toggleable__label {background-color: #d4ebff;}#sk-container-id-1 div.sk-serial::before {content: \"\";position: absolute;border-left: 1px solid gray;box-sizing: border-box;top: 0;bottom: 0;left: 50%;z-index: 0;}#sk-container-id-1 div.sk-serial {display: flex;flex-direction: column;align-items: center;background-color: white;padding-right: 0.2em;padding-left: 0.2em;position: relative;}#sk-container-id-1 div.sk-item {position: relative;z-index: 1;}#sk-container-id-1 div.sk-parallel {display: flex;align-items: stretch;justify-content: center;background-color: white;position: relative;}#sk-container-id-1 div.sk-item::before, #sk-container-id-1 div.sk-parallel-item::before {content: \"\";position: absolute;border-left: 1px solid gray;box-sizing: border-box;top: 0;bottom: 0;left: 50%;z-index: -1;}#sk-container-id-1 div.sk-parallel-item {display: flex;flex-direction: column;z-index: 1;position: relative;background-color: white;}#sk-container-id-1 div.sk-parallel-item:first-child::after {align-self: flex-end;width: 50%;}#sk-container-id-1 div.sk-parallel-item:last-child::after {align-self: flex-start;width: 50%;}#sk-container-id-1 div.sk-parallel-item:only-child::after {width: 0;}#sk-container-id-1 div.sk-dashed-wrapped {border: 1px dashed gray;margin: 0 0.4em 0.5em 0.4em;box-sizing: border-box;padding-bottom: 0.4em;background-color: white;}#sk-container-id-1 div.sk-label label {font-family: monospace;font-weight: bold;display: inline-block;line-height: 1.2em;}#sk-container-id-1 div.sk-label-container {text-align: center;}#sk-container-id-1 div.sk-container {/* jupyter's `normalize.less` sets `[hidden] { display: none; }` but bootstrap.min.css set `[hidden] { display: none !important; }` so we also need the `!important` here to be able to override the default hidden behavior on the sphinx rendered scikit-learn.org. See: https://github.com/scikit-learn/scikit-learn/issues/21755 */display: inline-block !important;position: relative;}#sk-container-id-1 div.sk-text-repr-fallback {display: none;}</style><div id=\"sk-container-id-1\" class=\"sk-top-container\"><div class=\"sk-text-repr-fallback\"><pre>GaussianNB()</pre><b>In a Jupyter environment, please rerun this cell to show the HTML representation or trust the notebook. <br />On GitHub, the HTML representation is unable to render, please try loading this page with nbviewer.org.</b></div><div class=\"sk-container\" hidden><div class=\"sk-item\"><div class=\"sk-estimator sk-toggleable\"><input class=\"sk-toggleable__control sk-hidden--visually\" id=\"sk-estimator-id-1\" type=\"checkbox\" checked><label for=\"sk-estimator-id-1\" class=\"sk-toggleable__label sk-toggleable__label-arrow\">GaussianNB</label><div class=\"sk-toggleable__content\"><pre>GaussianNB()</pre></div></div></div></div></div>"
            ]
          },
          "metadata": {},
          "execution_count": 15
        }
      ],
      "source": [
        "gnb = GaussianNB()\n",
        "gnb.fit(X_train_standard, y_train)"
      ]
    },
    {
      "cell_type": "markdown",
      "metadata": {
        "id": "-SLccr7WmsKP"
      },
      "source": [
        "<li> Melakukan prediksi data"
      ]
    },
    {
      "cell_type": "code",
      "execution_count": null,
      "metadata": {
        "id": "nnzUq0D3msKP"
      },
      "outputs": [],
      "source": [
        "y_prediction_before_pca = gnb.predict(X_test_standard)"
      ]
    },
    {
      "cell_type": "markdown",
      "metadata": {
        "id": "T7U-6cG4msKa"
      },
      "source": [
        "<li> Membuat confusion matrix dan hasil dari klasifikasi"
      ]
    },
    {
      "cell_type": "code",
      "execution_count": null,
      "metadata": {
        "id": "cw-cXU7SmsKa",
        "colab": {
          "base_uri": "https://localhost:8080/"
        },
        "outputId": "74552c29-c6b3-4680-997d-f0e59d98c307"
      },
      "outputs": [
        {
          "output_type": "stream",
          "name": "stdout",
          "text": [
            "Confusion Matrix Sebelum PCA:\n",
            "[[135   6]\n",
            " [ 20  72]]\n",
            "\n",
            "Classification Report Sebelum PCA:\n",
            "              precision    recall  f1-score   support\n",
            "\n",
            "           0       0.87      0.96      0.91       141\n",
            "           1       0.92      0.78      0.85        92\n",
            "\n",
            "    accuracy                           0.89       233\n",
            "   macro avg       0.90      0.87      0.88       233\n",
            "weighted avg       0.89      0.89      0.89       233\n",
            "\n"
          ]
        }
      ],
      "source": [
        "confusion_matrix_before_pca = confusion_matrix(y_test, y_prediction_before_pca)\n",
        "classification_report_before_pca = classification_report(y_test, y_prediction_before_pca)\n",
        "\n",
        "print(\"Confusion Matrix Sebelum PCA:\")\n",
        "print(confusion_matrix_before_pca)\n",
        "\n",
        "print(\"\\nClassification Report Sebelum PCA:\")\n",
        "print(classification_report_before_pca)"
      ]
    },
    {
      "cell_type": "markdown",
      "metadata": {
        "id": "Ue27G0hjmsKa"
      },
      "source": [
        "Akurasi sebelum melakukan PCA adalah 89% dengan menggunakan Naive Bayes"
      ]
    },
    {
      "cell_type": "markdown",
      "metadata": {
        "id": "PQgNBGtomsKa"
      },
      "source": [
        "<b> 5. Melakukan PCA</b><br>\n",
        "Melakukan PCA dari 25 atribut menjadi 2 atribut agar lebih mudah dilakukan visualisasi"
      ]
    },
    {
      "cell_type": "code",
      "execution_count": null,
      "metadata": {
        "id": "C-GIlBEkmsKa"
      },
      "outputs": [],
      "source": [
        "pca = PCA(n_components=2)\n",
        "X_train_pca = pca.fit_transform(X_train_standard)\n",
        "X_test_pca = pca.transform(X_test_standard)"
      ]
    },
    {
      "cell_type": "markdown",
      "metadata": {
        "id": "hLXlyDHtmsKa"
      },
      "source": [
        "<b> 5.1. Melakukan klasifikasi dan performance confusion matrix setelah PCA</b><br>\n",
        "Melakukan klasifikasi dengan Naive Bayes setelah melakukan PCA<br>\n",
        "<li> Melakukan trainning data yang sudah dilakukan PCA menggunakan Naive Bayes"
      ]
    },
    {
      "cell_type": "code",
      "execution_count": null,
      "metadata": {
        "id": "gXVvJi8DmsKb",
        "colab": {
          "base_uri": "https://localhost:8080/",
          "height": 74
        },
        "outputId": "d7643bb3-5d5b-44f7-94cf-a43a6da067f0"
      },
      "outputs": [
        {
          "output_type": "execute_result",
          "data": {
            "text/plain": [
              "GaussianNB()"
            ],
            "text/html": [
              "<style>#sk-container-id-2 {color: black;background-color: white;}#sk-container-id-2 pre{padding: 0;}#sk-container-id-2 div.sk-toggleable {background-color: white;}#sk-container-id-2 label.sk-toggleable__label {cursor: pointer;display: block;width: 100%;margin-bottom: 0;padding: 0.3em;box-sizing: border-box;text-align: center;}#sk-container-id-2 label.sk-toggleable__label-arrow:before {content: \"▸\";float: left;margin-right: 0.25em;color: #696969;}#sk-container-id-2 label.sk-toggleable__label-arrow:hover:before {color: black;}#sk-container-id-2 div.sk-estimator:hover label.sk-toggleable__label-arrow:before {color: black;}#sk-container-id-2 div.sk-toggleable__content {max-height: 0;max-width: 0;overflow: hidden;text-align: left;background-color: #f0f8ff;}#sk-container-id-2 div.sk-toggleable__content pre {margin: 0.2em;color: black;border-radius: 0.25em;background-color: #f0f8ff;}#sk-container-id-2 input.sk-toggleable__control:checked~div.sk-toggleable__content {max-height: 200px;max-width: 100%;overflow: auto;}#sk-container-id-2 input.sk-toggleable__control:checked~label.sk-toggleable__label-arrow:before {content: \"▾\";}#sk-container-id-2 div.sk-estimator input.sk-toggleable__control:checked~label.sk-toggleable__label {background-color: #d4ebff;}#sk-container-id-2 div.sk-label input.sk-toggleable__control:checked~label.sk-toggleable__label {background-color: #d4ebff;}#sk-container-id-2 input.sk-hidden--visually {border: 0;clip: rect(1px 1px 1px 1px);clip: rect(1px, 1px, 1px, 1px);height: 1px;margin: -1px;overflow: hidden;padding: 0;position: absolute;width: 1px;}#sk-container-id-2 div.sk-estimator {font-family: monospace;background-color: #f0f8ff;border: 1px dotted black;border-radius: 0.25em;box-sizing: border-box;margin-bottom: 0.5em;}#sk-container-id-2 div.sk-estimator:hover {background-color: #d4ebff;}#sk-container-id-2 div.sk-parallel-item::after {content: \"\";width: 100%;border-bottom: 1px solid gray;flex-grow: 1;}#sk-container-id-2 div.sk-label:hover label.sk-toggleable__label {background-color: #d4ebff;}#sk-container-id-2 div.sk-serial::before {content: \"\";position: absolute;border-left: 1px solid gray;box-sizing: border-box;top: 0;bottom: 0;left: 50%;z-index: 0;}#sk-container-id-2 div.sk-serial {display: flex;flex-direction: column;align-items: center;background-color: white;padding-right: 0.2em;padding-left: 0.2em;position: relative;}#sk-container-id-2 div.sk-item {position: relative;z-index: 1;}#sk-container-id-2 div.sk-parallel {display: flex;align-items: stretch;justify-content: center;background-color: white;position: relative;}#sk-container-id-2 div.sk-item::before, #sk-container-id-2 div.sk-parallel-item::before {content: \"\";position: absolute;border-left: 1px solid gray;box-sizing: border-box;top: 0;bottom: 0;left: 50%;z-index: -1;}#sk-container-id-2 div.sk-parallel-item {display: flex;flex-direction: column;z-index: 1;position: relative;background-color: white;}#sk-container-id-2 div.sk-parallel-item:first-child::after {align-self: flex-end;width: 50%;}#sk-container-id-2 div.sk-parallel-item:last-child::after {align-self: flex-start;width: 50%;}#sk-container-id-2 div.sk-parallel-item:only-child::after {width: 0;}#sk-container-id-2 div.sk-dashed-wrapped {border: 1px dashed gray;margin: 0 0.4em 0.5em 0.4em;box-sizing: border-box;padding-bottom: 0.4em;background-color: white;}#sk-container-id-2 div.sk-label label {font-family: monospace;font-weight: bold;display: inline-block;line-height: 1.2em;}#sk-container-id-2 div.sk-label-container {text-align: center;}#sk-container-id-2 div.sk-container {/* jupyter's `normalize.less` sets `[hidden] { display: none; }` but bootstrap.min.css set `[hidden] { display: none !important; }` so we also need the `!important` here to be able to override the default hidden behavior on the sphinx rendered scikit-learn.org. See: https://github.com/scikit-learn/scikit-learn/issues/21755 */display: inline-block !important;position: relative;}#sk-container-id-2 div.sk-text-repr-fallback {display: none;}</style><div id=\"sk-container-id-2\" class=\"sk-top-container\"><div class=\"sk-text-repr-fallback\"><pre>GaussianNB()</pre><b>In a Jupyter environment, please rerun this cell to show the HTML representation or trust the notebook. <br />On GitHub, the HTML representation is unable to render, please try loading this page with nbviewer.org.</b></div><div class=\"sk-container\" hidden><div class=\"sk-item\"><div class=\"sk-estimator sk-toggleable\"><input class=\"sk-toggleable__control sk-hidden--visually\" id=\"sk-estimator-id-2\" type=\"checkbox\" checked><label for=\"sk-estimator-id-2\" class=\"sk-toggleable__label sk-toggleable__label-arrow\">GaussianNB</label><div class=\"sk-toggleable__content\"><pre>GaussianNB()</pre></div></div></div></div></div>"
            ]
          },
          "metadata": {},
          "execution_count": 19
        }
      ],
      "source": [
        "gnb_after = GaussianNB()\n",
        "gnb_after.fit(X_train_pca, y_train)"
      ]
    },
    {
      "cell_type": "markdown",
      "metadata": {
        "id": "i0_hI4S6msKb"
      },
      "source": [
        "<li> Melakukan prediksi setelah melakukan PCA"
      ]
    },
    {
      "cell_type": "code",
      "execution_count": null,
      "metadata": {
        "id": "FPFUd151msKb"
      },
      "outputs": [],
      "source": [
        "y_prediction_after_pca = gnb_after.predict(X_test_pca)"
      ]
    },
    {
      "cell_type": "markdown",
      "metadata": {
        "id": "JL0udEP_msKb"
      },
      "source": [
        "<li> Membuat confusion matrix dan hasil dari klasifikasi setelah dilakukan PCA"
      ]
    },
    {
      "cell_type": "code",
      "execution_count": null,
      "metadata": {
        "id": "tL9S5vmEmsKb",
        "colab": {
          "base_uri": "https://localhost:8080/"
        },
        "outputId": "017877cc-c253-4871-e693-fe6d3f87bbd3"
      },
      "outputs": [
        {
          "output_type": "stream",
          "name": "stdout",
          "text": [
            "\n",
            "Confusion Matrix Setelah PCA:\n",
            "[[136   5]\n",
            " [  5  87]]\n",
            "\n",
            "Classification Report Setelah PCA:\n",
            "              precision    recall  f1-score   support\n",
            "\n",
            "           0       0.96      0.96      0.96       141\n",
            "           1       0.95      0.95      0.95        92\n",
            "\n",
            "    accuracy                           0.96       233\n",
            "   macro avg       0.96      0.96      0.96       233\n",
            "weighted avg       0.96      0.96      0.96       233\n",
            "\n"
          ]
        }
      ],
      "source": [
        "confusion_matrix_after_pca = confusion_matrix(y_test, y_prediction_after_pca)\n",
        "classification_report_after_pca = classification_report(y_test, y_prediction_after_pca)\n",
        "\n",
        "print(\"\\nConfusion Matrix Setelah PCA:\")\n",
        "print(confusion_matrix_after_pca)\n",
        "\n",
        "print(\"\\nClassification Report Setelah PCA:\")\n",
        "print(classification_report_after_pca)"
      ]
    },
    {
      "cell_type": "markdown",
      "metadata": {
        "id": "Tj1T4k9RmsKb"
      },
      "source": [
        "Akurasi setelah melakukan PCA adalah 96%. Artinya memiliki peningkatan akurasi sebesar 7% dibandingkan dengan sebelum dilakukan PCA"
      ]
    },
    {
      "cell_type": "code",
      "execution_count": null,
      "metadata": {
        "id": "PJLEd-E5msKb",
        "colab": {
          "base_uri": "https://localhost:8080/",
          "height": 444
        },
        "outputId": "c9a9f606-1591-4705-e8d2-351028c527e2"
      },
      "outputs": [
        {
          "output_type": "execute_result",
          "data": {
            "text/plain": [
              "Text(518.4494949494949, 0.5, 'Aktual')"
            ]
          },
          "metadata": {},
          "execution_count": 22
        },
        {
          "output_type": "display_data",
          "data": {
            "text/plain": [
              "<Figure size 1000x600 with 2 Axes>"
            ],
            "image/png": "[encoded data removed]"
          },
          "metadata": {}
        }
      ],
      "source": [
        "\n",
        "plt.figure(figsize=(10, 6))\n",
        "plt.subplot(1, 2, 1)\n",
        "sns.heatmap(confusion_matrix_before_pca, annot=True, fmt=\"d\", cmap=\"Blues\", cbar=False)\n",
        "plt.title(\"Confusion Matrix Sebelum PCA\")\n",
        "plt.xlabel(\"Prediksi\")\n",
        "plt.ylabel(\"Aktual\")\n",
        "\n",
        "plt.subplot(1, 2, 2)\n",
        "sns.heatmap(confusion_matrix_after_pca, annot=True, fmt=\"d\", cmap=\"Blues\", cbar=False)\n",
        "plt.title(\"Confusion Matrix Setelah PCA\")\n",
        "plt.xlabel(\"Prediksi\")\n",
        "plt.ylabel(\"Aktual\")"
      ]
    },
    {
      "cell_type": "markdown",
      "metadata": {
        "id": "na1tkdSVmsKc"
      },
      "source": [
        "<b>Sebelum melakukan PCA </b> <br>\n",
        "True Negatives : 135 <br>\n",
        "False Positives : 6 <br>\n",
        "False Negatives : 20 <br>\n",
        "True Positives : 72 <br> <br>\n",
        "\n",
        "<b>Setelah melakukan PCA </b> <br>\n",
        "True Negatives : 136 <br>\n",
        "False Positives : 5 <br>\n",
        "False Negatives : 5 <br>\n",
        "True Positives : 87 <br> <br>\n"
      ]
    },
    {
      "cell_type": "markdown",
      "metadata": {
        "id": "YkTdijaNmsKc"
      },
      "source": [
        "<li> Akurasi, Presis, Recall dan F1-score sebelum dilakukannya PCA"
      ]
    },
    {
      "cell_type": "code",
      "execution_count": null,
      "metadata": {
        "id": "O6EhgoelmsKc",
        "colab": {
          "base_uri": "https://localhost:8080/"
        },
        "outputId": "7e8057e5-fdbf-4b41-9f34-00f761e1c71c"
      },
      "outputs": [
        {
          "output_type": "stream",
          "name": "stdout",
          "text": [
            "Akurasi: 0.89\n",
            "Presisi: 0.92\n",
            "Recall: 0.78\n",
            "F1-score: 0.85\n"
          ]
        }
      ],
      "source": [
        "accuracy = accuracy_score(y_test, y_prediction_before_pca)\n",
        "print(\"Akurasi:\", round(accuracy,2))\n",
        "\n",
        "precision = precision_score(y_test, y_prediction_before_pca)\n",
        "print(\"Presisi:\", round(precision,2))\n",
        "\n",
        "recall = recall_score(y_test, y_prediction_before_pca)\n",
        "print(\"Recall:\", round(recall,2))\n",
        "\n",
        "f1Score = f1_score(y_test, y_prediction_before_pca)\n",
        "print(\"F1-score:\", round(f1Score,2))"
      ]
    },
    {
      "cell_type": "markdown",
      "metadata": {
        "id": "3bK5IUBBmsKc"
      },
      "source": [
        "<li> Akurasi, Presis, Recall dan F1-score setelah dilakukannya PCA"
      ]
    },
    {
      "cell_type": "code",
      "execution_count": null,
      "metadata": {
        "id": "gsZMO0VjmsKc",
        "colab": {
          "base_uri": "https://localhost:8080/"
        },
        "outputId": "de81e237-e5b8-4b06-d09e-39eeb88f6080"
      },
      "outputs": [
        {
          "output_type": "stream",
          "name": "stdout",
          "text": [
            "Akurasi: 0.96\n",
            "Presisi: 0.95\n",
            "Recall: 0.95\n",
            "F1-score: 0.95\n"
          ]
        }
      ],
      "source": [
        "accuracy = accuracy_score(y_test, y_prediction_after_pca)\n",
        "print(\"Akurasi:\", round(accuracy,2))\n",
        "\n",
        "precision = precision_score(y_test, y_prediction_after_pca)\n",
        "print(\"Presisi:\", round(precision,2))\n",
        "\n",
        "recall = recall_score(y_test, y_prediction_after_pca)\n",
        "print(\"Recall:\", round(recall,2))\n",
        "\n",
        "f1Score = f1_score(y_test, y_prediction_after_pca)\n",
        "print(\"F1-score:\", round(f1Score,2))"
      ]
    },
    {
      "cell_type": "markdown",
      "metadata": {
        "id": "Assy6DCkmsKd"
      },
      "source": [
        "<b>Berikut plot data sebelum dan sesudah melakukan PCA"
      ]
    },
    {
      "cell_type": "code",
      "execution_count": null,
      "metadata": {
        "id": "5BdDllqBmsKd",
        "colab": {
          "base_uri": "https://localhost:8080/",
          "height": 306
        },
        "outputId": "eeabd727-f4c7-48f2-9c8d-4ec99a61c265"
      },
      "outputs": [
        {
          "output_type": "display_data",
          "data": {
            "text/plain": [
              "<Figure size 1000x400 with 4 Axes>"
            ],
            "image/png": "[encoded data removed]"
          },
          "metadata": {}
        }
      ],
      "source": [
        "plt.figure(figsize=(10,4))\n",
        "plt.subplot(1,2,1)\n",
        "plt.scatter(X_train_standard[:, 0], X_train_standard[:, 1], c=y_train, cmap='viridis')\n",
        "plt.xlabel('Principal Component 1')\n",
        "plt.ylabel('Principal Component 2')\n",
        "plt.title('Data Train sebelum PCA')\n",
        "plt.colorbar(label='Risk')\n",
        "\n",
        "plt.subplot(1,2,2)\n",
        "plt.scatter(X_train_pca[:, 0], X_train_pca[:, 1], c=y_train, cmap='viridis')\n",
        "plt.xlabel('Principal Component 1')\n",
        "plt.ylabel('Principal Component 2')\n",
        "plt.title('Data Train setelah PCA')\n",
        "plt.colorbar(label='Risk')\n",
        "\n",
        "plt.show()"
      ]
    }
  ],
  "metadata": {
    "kernelspec": {
      "display_name": "Python 3",
      "language": "python",
      "name": "python3"
    },
    "language_info": {
      "codemirror_mode": {
        "name": "ipython",
        "version": 3
      },
      "file_extension": ".py",
      "mimetype": "text/x-python",
      "name": "python",
      "nbconvert_exporter": "python",
      "pygments_lexer": "ipython3",
      "version": "3.8.5"
    },
    "colab": {
      "provenance": [],
      "include_colab_link": true
    }
  },
  "nbformat": 4,
  "nbformat_minor": 0
}